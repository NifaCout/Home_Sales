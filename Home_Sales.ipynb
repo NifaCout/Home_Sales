{
  "cells": [
    {
      "cell_type": "code",
      "execution_count": 1,
      "metadata": {
        "colab": {
          "base_uri": "https://localhost:8080/"
        },
        "id": "a_KW73O2e3dw",
        "outputId": "6aeaa483-4e43-485c-91fd-8e32c6456c2a"
      },
      "outputs": [
        {
          "name": "stdout",
          "output_type": "stream",
          "text": [
            "\r0% [Working]\r            \rGet:1 http://security.ubuntu.com/ubuntu jammy-security InRelease [110 kB]\n",
            "\r0% [Waiting for headers] [1 InRelease 12.7 kB/110 kB 12%] [Connecting to cloud.\r                                                                               \rHit:2 http://archive.ubuntu.com/ubuntu jammy InRelease\n",
            "Get:3 http://archive.ubuntu.com/ubuntu jammy-updates InRelease [119 kB]\n",
            "Hit:4 https://developer.download.nvidia.com/compute/cuda/repos/ubuntu2204/x86_64  InRelease\n",
            "Get:5 https://cloud.r-project.org/bin/linux/ubuntu jammy-cran40/ InRelease [3,626 B]\n",
            "Get:6 http://archive.ubuntu.com/ubuntu jammy-backports InRelease [109 kB]\n",
            "Hit:7 https://ppa.launchpadcontent.net/c2d4u.team/c2d4u4.0+/ubuntu jammy InRelease\n",
            "Get:8 http://security.ubuntu.com/ubuntu jammy-security/main amd64 Packages [1,081 kB]\n",
            "Get:9 http://security.ubuntu.com/ubuntu jammy-security/universe amd64 Packages [1,004 kB]\n",
            "Hit:10 https://ppa.launchpadcontent.net/deadsnakes/ppa/ubuntu jammy InRelease\n",
            "Get:11 http://archive.ubuntu.com/ubuntu jammy-updates/universe amd64 Packages [1,269 kB]\n",
            "Get:12 http://archive.ubuntu.com/ubuntu jammy-updates/main amd64 Packages [1,342 kB]\n",
            "Hit:13 https://ppa.launchpadcontent.net/graphics-drivers/ppa/ubuntu jammy InRelease\n",
            "Hit:14 https://ppa.launchpadcontent.net/ubuntugis/ppa/ubuntu jammy InRelease\n",
            "Fetched 5,038 kB in 2s (2,162 kB/s)\n",
            "Reading package lists... Done\n"
          ]
        }
      ],
      "source": [
        "import os\n",
        "# Find the latest version of spark 3.x  from http://www.apache.org/dist/spark/ and enter as the spark version\n",
        "# For example:\n",
        "# spark_version = 'spark-3.4.0'\n",
        "spark_version = 'spark-3.4.1'\n",
        "os.environ['SPARK_VERSION']=spark_version\n",
        "\n",
        "# Install Spark and Java\n",
        "!apt-get update\n",
        "!apt-get install openjdk-11-jdk-headless -qq > /dev/null\n",
        "!wget -q http://www.apache.org/dist/spark/$SPARK_VERSION/$SPARK_VERSION-bin-hadoop3.tgz\n",
        "!tar xf $SPARK_VERSION-bin-hadoop3.tgz\n",
        "!pip install -q findspark\n",
        "\n",
        "# Set Environment Variables\n",
        "os.environ[\"JAVA_HOME\"] = \"/usr/lib/jvm/java-11-openjdk-amd64\"\n",
        "os.environ[\"SPARK_HOME\"] = f\"/content/{spark_version}-bin-hadoop3\"\n",
        "\n",
        "# Start a SparkSession\n",
        "import findspark\n",
        "findspark.init()"
      ]
    },
    {
      "cell_type": "code",
      "execution_count": 2,
      "metadata": {
        "id": "2XbWNf1Te5fM"
      },
      "outputs": [],
      "source": [
        "# Import packages\n",
        "from pyspark.sql import SparkSession\n",
        "import time\n",
        "\n",
        "# Create a SparkSession\n",
        "spark = SparkSession.builder.appName(\"SparkSQL\").getOrCreate()"
      ]
    },
    {
      "cell_type": "code",
      "execution_count": 3,
      "metadata": {
        "id": "wOJqxG_RPSwp"
      },
      "outputs": [],
      "source": [
        "# 1. Read in the AWS S3 bucket into a DataFrame.\n",
        "from pyspark import SparkFiles\n",
        "url = \"https://2u-data-curriculum-team.s3.amazonaws.com/dataviz-classroom/v1.2/22-big-data/home_sales_revised.csv\"\n",
        "\n"
      ]
    },
    {
      "cell_type": "code",
      "execution_count": 31,
      "metadata": {
        "colab": {
          "base_uri": "https://localhost:8080/"
        },
        "id": "RoljcJ7WPpnm",
        "outputId": "91b83a34-64fc-4bdf-cf77-9fc4d1fafd4d"
      },
      "outputs": [
        {
          "name": "stdout",
          "output_type": "stream",
          "text": [
            "+--------------------+----------+----------+------+--------+---------+-----------+--------+------+----------+----+\n",
            "|                  id|      date|date_built| price|bedrooms|bathrooms|sqft_living|sqft_lot|floors|waterfront|view|\n",
            "+--------------------+----------+----------+------+--------+---------+-----------+--------+------+----------+----+\n",
            "|f8a53099-ba1c-47d...|2022-04-08|      2016|936923|       4|        3|       3167|   11733|     2|         1|  76|\n",
            "|7530a2d8-1ae3-451...|2021-06-13|      2013|379628|       2|        2|       2235|   14384|     1|         0|  23|\n",
            "|43de979c-0bf0-4c9...|2019-04-12|      2014|417866|       2|        2|       2127|   10575|     2|         0|   0|\n",
            "|b672c137-b88c-48b...|2019-10-16|      2016|239895|       2|        2|       1631|   11149|     2|         0|   0|\n",
            "|e0726d4d-d595-407...|2022-01-08|      2017|424418|       3|        2|       2249|   13878|     2|         0|   4|\n",
            "|5aa00529-0533-46b...|2019-01-30|      2017|218712|       2|        3|       1965|   14375|     2|         0|   7|\n",
            "|131492a1-72e2-4a8...|2020-02-08|      2017|419199|       2|        3|       2062|    8876|     2|         0|   6|\n",
            "|8d54a71b-c520-44e...|2019-07-21|      2010|323956|       2|        3|       1506|   11816|     1|         0|  25|\n",
            "|e81aacfe-17fe-46b...|2020-06-16|      2016|181925|       3|        3|       2137|   11709|     2|         0|  22|\n",
            "|2ed8d509-7372-46d...|2021-08-06|      2015|258710|       3|        3|       1918|    9666|     1|         0|  25|\n",
            "+--------------------+----------+----------+------+--------+---------+-----------+--------+------+----------+----+\n",
            "only showing top 10 rows\n",
            "\n"
          ]
        }
      ],
      "source": [
        "# 2. Create a temporary view of the DataFrame.\n",
        "spark.sparkContext.addFile(url)\n",
        "df = spark.read.csv(\"file://\" + SparkFiles.get(\"home_sales_revised.csv\"), header=True, inferSchema=True)\n",
        "\n",
        "df.createOrReplaceTempView(\"home_sales\")\n",
        "df.show(10)"
      ]
    },
    {
      "cell_type": "code",
      "execution_count": 33,
      "metadata": {
        "colab": {
          "base_uri": "https://localhost:8080/"
        },
        "id": "L6fkwOeOmqvq",
        "outputId": "b3792de0-5354-45e3-cedf-2914ce102800"
      },
      "outputs": [
        {
          "name": "stdout",
          "output_type": "stream",
          "text": [
            "+----+---------+\n",
            "|year|avg_price|\n",
            "+----+---------+\n",
            "|2019| 300263.7|\n",
            "|2020|298353.78|\n",
            "|2021|301819.44|\n",
            "|2022|296363.88|\n",
            "+----+---------+\n",
            "\n"
          ]
        }
      ],
      "source": [
        "# 3. What is the average price for a four bedroom house sold in each year rounded to two decimal places?\n",
        "query = \"\"\"\n",
        "SELECT\n",
        "    YEAR(date) AS year,\n",
        "    ROUND(AVG(price), 2) AS avg_price\n",
        "FROM\n",
        "    home_sales\n",
        "WHERE\n",
        "    bedrooms = 4\n",
        "GROUP BY\n",
        "    YEAR(date)\n",
        "ORDER BY\n",
        "    year\n",
        "\"\"\"\n",
        "\n",
        "result = spark.sql(query)\n",
        "result.show()\n",
        "\n"
      ]
    },
    {
      "cell_type": "code",
      "execution_count": 34,
      "metadata": {
        "colab": {
          "base_uri": "https://localhost:8080/"
        },
        "id": "l8p_tUS8h8it",
        "outputId": "b252c44e-0814-4b5e-9f62-6d579742cfbe"
      },
      "outputs": [
        {
          "name": "stdout",
          "output_type": "stream",
          "text": [
            "+----------+---------+\n",
            "|date_built|avg_price|\n",
            "+----------+---------+\n",
            "|      2010|292859.62|\n",
            "|      2011|291117.47|\n",
            "|      2012|293683.19|\n",
            "|      2013|295962.27|\n",
            "|      2014|290852.27|\n",
            "|      2015| 288770.3|\n",
            "|      2016|290555.07|\n",
            "|      2017|292676.79|\n",
            "+----------+---------+\n",
            "\n"
          ]
        }
      ],
      "source": [
        "# 4. What is the average price of a home for each year the home was built that have 3 bedrooms and 3 bathrooms rounded to two decimal places?\n",
        "query = \"\"\"\n",
        "SELECT\n",
        "    date_built,\n",
        "    ROUND(AVG(price), 2) AS avg_price\n",
        "FROM\n",
        "    home_sales\n",
        "WHERE\n",
        "    bedrooms = 3 AND bathrooms = 3\n",
        "GROUP BY\n",
        "    date_built\n",
        "ORDER BY\n",
        "    date_built\n",
        "\"\"\"\n",
        "\n",
        "# Execute the query and show the results\n",
        "result = spark.sql(query)\n",
        "result.show()\n"
      ]
    },
    {
      "cell_type": "code",
      "execution_count": 35,
      "metadata": {
        "colab": {
          "base_uri": "https://localhost:8080/"
        },
        "id": "Y-Eytz64liDU",
        "outputId": "29df902d-21cd-454a-c74c-6465d2547ff4"
      },
      "outputs": [
        {
          "name": "stdout",
          "output_type": "stream",
          "text": [
            "+----------+---------+\n",
            "|date_built|avg_price|\n",
            "+----------+---------+\n",
            "|      2010|285010.22|\n",
            "|      2011|276553.81|\n",
            "|      2012|307539.97|\n",
            "|      2013|303676.79|\n",
            "|      2014|298264.72|\n",
            "|      2015|297609.97|\n",
            "|      2016| 293965.1|\n",
            "|      2017|280317.58|\n",
            "+----------+---------+\n",
            "\n"
          ]
        }
      ],
      "source": [
        "# 5. What is the average price of a home for each year built that have 3 bedrooms, 3 bathrooms, with two floors,\n",
        "# and are greater than or equal to 2,000 square feet rounded to two decimal places?\n",
        "\n",
        "query = \"\"\"\n",
        "SELECT\n",
        "    date_built,\n",
        "    ROUND(AVG(price), 2) AS avg_price\n",
        "FROM\n",
        "    home_sales\n",
        "WHERE\n",
        "    bedrooms = 3 AND\n",
        "    bathrooms = 3 AND\n",
        "    floors = 2 AND\n",
        "    sqft_living >= 2000\n",
        "GROUP BY\n",
        "    date_built\n",
        "ORDER BY\n",
        "    date_built\n",
        "\"\"\"\n",
        "\n",
        "# Execute the query and display the results\n",
        "result = spark.sql(query)\n",
        "result.show()\n",
        "\n"
      ]
    },
    {
      "cell_type": "code",
      "execution_count": 19,
      "metadata": {
        "colab": {
          "base_uri": "https://localhost:8080/"
        },
        "id": "GUrfgOX1pCRd",
        "outputId": "27257b11-2204-40d1-df32-3bed9f2c2017"
      },
      "outputs": [
        {
          "name": "stdout",
          "output_type": "stream",
          "text": [
            "+-----------+----------+\n",
            "|view_rating| avg_price|\n",
            "+-----------+----------+\n",
            "|         31| 399856.95|\n",
            "|         85|1056336.74|\n",
            "|         65| 736679.93|\n",
            "|         53|  755214.8|\n",
            "|         78|1080649.37|\n",
            "|         34| 401419.75|\n",
            "|         81|1053472.79|\n",
            "|         28| 402124.62|\n",
            "|         76|1058802.78|\n",
            "|         26| 401506.97|\n",
            "|         27| 399537.66|\n",
            "|         44| 400598.05|\n",
            "|         12| 401501.32|\n",
            "|         91|1137372.73|\n",
            "|         22| 402022.68|\n",
            "|         93|1026006.06|\n",
            "|         47|  398447.5|\n",
            "|          1| 401044.25|\n",
            "|         52| 733780.26|\n",
            "|         13| 398917.98|\n",
            "+-----------+----------+\n",
            "only showing top 20 rows\n",
            "\n",
            "--- 0.8072476387023926 seconds ---\n"
          ]
        }
      ],
      "source": [
        "# 6. What is the \"view\" rating for the average price of a home, rounded to two decimal places, where the homes are greater than\n",
        "# or equal to $350,000? Although this is a small dataset, determine the run time for this query.\n",
        "\n",
        "start_time = time.time()\n",
        "query = \"\"\"\n",
        "SELECT\n",
        "    `view` AS view_rating,\n",
        "    ROUND(AVG(price), 2) AS avg_price\n",
        "FROM\n",
        "    home_sales\n",
        "WHERE\n",
        "    price >= 350000\n",
        "GROUP BY\n",
        "    `view`\n",
        "\"\"\"\n",
        "# Execute the query and display the results\n",
        "result = spark.sql(query)\n",
        "result.show()\n",
        "\n",
        "print(\"--- %s seconds ---\" % (time.time() - start_time))"
      ]
    },
    {
      "cell_type": "code",
      "execution_count": 21,
      "metadata": {
        "colab": {
          "base_uri": "https://localhost:8080/"
        },
        "id": "KAhk3ZD2tFy8",
        "outputId": "3bf436c0-8e6f-4891-a391-07f8110e2247"
      },
      "outputs": [
        {
          "data": {
            "text/plain": [
              "33287"
            ]
          },
          "execution_count": 21,
          "metadata": {},
          "output_type": "execute_result"
        }
      ],
      "source": [
        "# 7. Cache the the temporary table home_sales.\n",
        "spark.table(\"home_sales\").cache()\n",
        "spark.table(\"home_sales\").count()\n"
      ]
    },
    {
      "cell_type": "code",
      "execution_count": 22,
      "metadata": {
        "colab": {
          "base_uri": "https://localhost:8080/"
        },
        "id": "4opVhbvxtL-i",
        "outputId": "f05fbc22-e6cd-4ae3-c85e-a9105c063897"
      },
      "outputs": [
        {
          "name": "stdout",
          "output_type": "stream",
          "text": [
            "Is 'home_sales' table cached? True\n"
          ]
        }
      ],
      "source": [
        "# 8. Check if the table is cached.\n",
        "spark.catalog.isCached('home_sales')\n",
        "\n",
        "is_cached = spark.catalog.isCached('home_sales')\n",
        "\n",
        "# Print the result\n",
        "print(f\"Is 'home_sales' table cached? {is_cached}\")"
      ]
    },
    {
      "cell_type": "code",
      "execution_count": 24,
      "metadata": {
        "colab": {
          "base_uri": "https://localhost:8080/"
        },
        "id": "5GnL46lwTSEk",
        "outputId": "6319d0d4-e582-483d-b504-77acc6ae2160"
      },
      "outputs": [
        {
          "name": "stdout",
          "output_type": "stream",
          "text": [
            "+-----------+----------+\n",
            "|view_rating| avg_price|\n",
            "+-----------+----------+\n",
            "|         31| 399856.95|\n",
            "|         85|1056336.74|\n",
            "|         65| 736679.93|\n",
            "|         53|  755214.8|\n",
            "|         78|1080649.37|\n",
            "|         34| 401419.75|\n",
            "|         81|1053472.79|\n",
            "|         28| 402124.62|\n",
            "|         76|1058802.78|\n",
            "|         26| 401506.97|\n",
            "|         27| 399537.66|\n",
            "|         44| 400598.05|\n",
            "|         12| 401501.32|\n",
            "|         91|1137372.73|\n",
            "|         22| 402022.68|\n",
            "|         93|1026006.06|\n",
            "|         47|  398447.5|\n",
            "|          1| 401044.25|\n",
            "|         52| 733780.26|\n",
            "|         13| 398917.98|\n",
            "+-----------+----------+\n",
            "only showing top 20 rows\n",
            "\n",
            "Runtime with caching: 0.7761011123657227 seconds\n",
            "+-----------+----------+\n",
            "|view_rating| avg_price|\n",
            "+-----------+----------+\n",
            "|         31| 399856.95|\n",
            "|         85|1056336.74|\n",
            "|         65| 736679.93|\n",
            "|         53|  755214.8|\n",
            "|         78|1080649.37|\n",
            "|         34| 401419.75|\n",
            "|         81|1053472.79|\n",
            "|         28| 402124.62|\n",
            "|         76|1058802.78|\n",
            "|         26| 401506.97|\n",
            "|         27| 399537.66|\n",
            "|         44| 400598.05|\n",
            "|         12| 401501.32|\n",
            "|         91|1137372.73|\n",
            "|         22| 402022.68|\n",
            "|         93|1026006.06|\n",
            "|         47|  398447.5|\n",
            "|          1| 401044.25|\n",
            "|         52| 733780.26|\n",
            "|         13| 398917.98|\n",
            "+-----------+----------+\n",
            "only showing top 20 rows\n",
            "\n",
            "Runtime without caching: 0.9340004920959473 seconds\n",
            "Difference in runtime (uncached - cached): 0.1578993797302246 seconds\n"
          ]
        }
      ],
      "source": [
        "# 9. Using the cached data, run the query that filters out the view ratings with average price\n",
        "#  greater than or equal to $350,000. Determine the runtime and compare it to uncached runtime.\n",
        "\n",
        "start_time = time.time()\n",
        "query = \"\"\"\n",
        "SELECT\n",
        "    view AS view_rating,\n",
        "    ROUND(AVG(price), 2) AS avg_price\n",
        "FROM\n",
        "    home_sales\n",
        "WHERE\n",
        "    price >= 350000\n",
        "GROUP BY\n",
        "    view\n",
        "\"\"\"\n",
        "result = spark.sql(query)\n",
        "result.show()\n",
        "\n",
        "# Print runtime with caching\n",
        "cached_runtime = time.time() - start_time\n",
        "print(f\"Runtime with caching: {cached_runtime} seconds\")\n",
        "\n",
        "# Clear the cache for comparison\n",
        "spark.table(\"home_sales\").unpersist()\n",
        "\n",
        "# Without Cached Data\n",
        "start_time = time.time()\n",
        "\n",
        "# Running the same query\n",
        "result_uncached = spark.sql(query)\n",
        "result_uncached.show()\n",
        "\n",
        "# Print runtime without caching\n",
        "uncached_runtime = time.time() - start_time\n",
        "print(f\"Runtime without caching: {uncached_runtime} seconds\")\n",
        "\n",
        "# Showing the difference\n",
        "difference = uncached_runtime - cached_runtime\n",
        "print(f\"Difference in runtime (uncached - cached): {difference} seconds\")"
      ]
    },
    {
      "cell_type": "code",
      "execution_count": 41,
      "metadata": {
        "id": "Qm12WN9isHBR"
      },
      "outputs": [],
      "source": [
        "# 10. Partition by the \"date_built\" field on the formatted parquet home sales data\n",
        "\n",
        "output_path = \"/path/to/output/directory\"\n",
        "\n",
        "df.write.mode('overwrite').partitionBy(\"date_built\").parquet(output_path)\n",
        "\n"
      ]
    },
    {
      "cell_type": "code",
      "execution_count": 47,
      "metadata": {
        "colab": {
          "base_uri": "https://localhost:8080/"
        },
        "id": "8-OfluvCiayI",
        "outputId": "bf474b46-671d-497d-ee3c-43bbb0b003c1"
      },
      "outputs": [
        {
          "name": "stdout",
          "output_type": "stream",
          "text": [
            "+--------------------+----------+------+--------+---------+-----------+--------+------+----------+----+----------+\n",
            "|                  id|      date| price|bedrooms|bathrooms|sqft_living|sqft_lot|floors|waterfront|view|date_built|\n",
            "+--------------------+----------+------+--------+---------+-----------+--------+------+----------+----+----------+\n",
            "|2ed8d509-7372-46d...|2021-08-06|258710|       3|        3|       1918|    9666|     1|         0|  25|      2015|\n",
            "|941bad30-eb49-4a7...|2020-05-09|229896|       3|        3|       2197|    8641|     1|         0|   3|      2015|\n",
            "|c797ca12-52cd-4b1...|2019-06-08|288650|       2|        3|       2100|   10419|     2|         0|   7|      2015|\n",
            "|0cfe57f3-28c2-472...|2019-10-04|308313|       3|        3|       1960|    9453|     2|         0|   2|      2015|\n",
            "|d715f295-2fbf-4e9...|2021-05-17|391574|       3|        2|       1635|    8040|     2|         0|  10|      2015|\n",
            "|a18515a2-86f3-46b...|2022-02-18|419543|       3|        2|       1642|   12826|     2|         0|  24|      2015|\n",
            "|98f6a9ad-8870-474...|2022-05-07|136752|       2|        3|       1701|   10771|     2|         0|   5|      2015|\n",
            "|7ac67498-b6f3-403...|2021-05-12|349318|       4|        3|       2417|   11304|     2|         0|  37|      2015|\n",
            "|c9bfdb1c-2499-4e3...|2021-12-07|268874|       2|        2|       1537|   12177|     1|         0|  10|      2015|\n",
            "|34c31a34-220d-469...|2019-02-06|409011|       3|        3|       2356|   10507|     1|         0|   1|      2015|\n",
            "|be0ccb95-415d-411...|2020-05-15|425154|       4|        3|       2120|   14229|     2|         0|   4|      2015|\n",
            "|e9031a86-1294-444...|2021-10-09|222322|       4|        3|       1928|   10510|     1|         0|  38|      2015|\n",
            "|e6d7c2a7-596e-4ec...|2019-03-15|131201|       4|        3|       1633|   14655|     1|         0|  22|      2015|\n",
            "|6683714b-3df7-454...|2022-02-01|333403|       4|        2|       2059|    9793|     2|         0|   4|      2015|\n",
            "|00fc996f-508c-430...|2021-07-15|373139|       3|        3|       1763|   11363|     1|         0|  39|      2015|\n",
            "|3d5545f8-bd3b-476...|2020-09-19|797862|       4|        6|       3494|   10385|     2|         0|  90|      2015|\n",
            "|ec6d357c-2435-43e...|2019-05-28|401792|       3|        2|       1627|   10765|     1|         0|  50|      2015|\n",
            "|c2be38fb-814a-403...|2020-03-20|352237|       3|        3|       2485|   10954|     2|         0|   6|      2015|\n",
            "|9570de1f-5a74-45b...|2021-11-29|298453|       3|        2|       2222|   10634|     1|         0|   6|      2015|\n",
            "|1baeff4f-fc00-489...|2020-12-17|152775|       3|        2|       1623|   13851|     1|         0|  41|      2015|\n",
            "+--------------------+----------+------+--------+---------+-----------+--------+------+----------+----+----------+\n",
            "only showing top 20 rows\n",
            "\n"
          ]
        }
      ],
      "source": [
        "# 11. Read the parquet formatted data.\n",
        "# Define the path\n",
        "parquet_path = \"/path/to/output/directory\"\n",
        "\n",
        "# Read the partitioned Parquet data back into a DataFrame\n",
        "df_from_parquet = spark.read.parquet(parquet_path)\n",
        "\n",
        "# Display the first few rows of the DataFrame\n",
        "df_from_parquet.show()\n"
      ]
    },
    {
      "cell_type": "code",
      "execution_count": 48,
      "metadata": {
        "id": "J6MJkHfvVcvh"
      },
      "outputs": [],
      "source": [
        "# 12. Create a temporary table for the parquet data.\n",
        "df_from_parquet.createOrReplaceTempView(\"temp_home_sales_parquet\")"
      ]
    },
    {
      "cell_type": "code",
      "execution_count": 50,
      "metadata": {
        "colab": {
          "base_uri": "https://localhost:8080/"
        },
        "id": "G_Vhb52rU1Sn",
        "outputId": "ca773a93-5224-4681-cdc3-797159a12da3"
      },
      "outputs": [
        {
          "name": "stdout",
          "output_type": "stream",
          "text": [
            "+-----------+----------+\n",
            "|view_rating| avg_price|\n",
            "+-----------+----------+\n",
            "|         31| 399856.95|\n",
            "|         85|1056336.74|\n",
            "|         65| 736679.93|\n",
            "|         53|  755214.8|\n",
            "|         78|1080649.37|\n",
            "|         34| 401419.75|\n",
            "|         81|1053472.79|\n",
            "|         28| 402124.62|\n",
            "|         76|1058802.78|\n",
            "|         26| 401506.97|\n",
            "|         27| 399537.66|\n",
            "|         44| 400598.05|\n",
            "|         12| 401501.32|\n",
            "|         91|1137372.73|\n",
            "|         22| 402022.68|\n",
            "|         93|1026006.06|\n",
            "|         47|  398447.5|\n",
            "|          1| 401044.25|\n",
            "|         52| 733780.26|\n",
            "|         13| 398917.98|\n",
            "+-----------+----------+\n",
            "only showing top 20 rows\n",
            "\n",
            "Runtime with Parquet data: 0.8750419616699219 seconds\n",
            "+-----------+----------+\n",
            "|view_rating| avg_price|\n",
            "+-----------+----------+\n",
            "|         31| 399856.95|\n",
            "|         85|1056336.74|\n",
            "|         65| 736679.93|\n",
            "|         53|  755214.8|\n",
            "|         78|1080649.37|\n",
            "|         34| 401419.75|\n",
            "|         81|1053472.79|\n",
            "|         28| 402124.62|\n",
            "|         76|1058802.78|\n",
            "|         26| 401506.97|\n",
            "|         27| 399537.66|\n",
            "|         44| 400598.05|\n",
            "|         12| 401501.32|\n",
            "|         91|1137372.73|\n",
            "|         22| 402022.68|\n",
            "|         93|1026006.06|\n",
            "|         47|  398447.5|\n",
            "|          1| 401044.25|\n",
            "|         52| 733780.26|\n",
            "|         13| 398917.98|\n",
            "+-----------+----------+\n",
            "only showing top 20 rows\n",
            "\n",
            "Runtime with caching: 0.5518186092376709 seconds\n",
            "Difference in runtime (Parquet - cached): 0.323223352432251 seconds\n"
          ]
        }
      ],
      "source": [
        "# 13. Run the query that filters out the view ratings with average price of greater than or equal to $350,000\n",
        "# with the parquet DataFrame. Round your average to two decimal places.\n",
        "# Determine the runtime and compare it to the cached version.\n",
        "\n",
        "start_time = time.time()\n",
        "query_parquet = \"\"\"\n",
        "SELECT\n",
        "    view AS view_rating,\n",
        "    ROUND(AVG(price), 2) AS avg_price\n",
        "FROM\n",
        "    temp_home_sales_parquet\n",
        "WHERE\n",
        "    price >= 350000\n",
        "GROUP BY\n",
        "    view\n",
        "\"\"\"\n",
        "\n",
        "result_parquet = spark.sql(query_parquet)\n",
        "result_parquet.show()\n",
        "\n",
        "parquet_runtime = time.time() - start_time\n",
        "print(f\"Runtime with Parquet data: {parquet_runtime} seconds\")\n",
        "\n",
        "\n",
        "\n",
        "# cache the original DataFrame\n",
        "spark.table(\"home_sales\").cache()\n",
        "\n",
        "# Measure runtime\n",
        "start_time = time.time()\n",
        "\n",
        "# Query on the cached DataFrame\n",
        "query_cached = \"\"\"\n",
        "SELECT\n",
        "    view AS view_rating,\n",
        "    ROUND(AVG(price), 2) AS avg_price\n",
        "FROM\n",
        "    home_sales\n",
        "WHERE\n",
        "    price >= 350000\n",
        "GROUP BY\n",
        "    view\n",
        "\"\"\"\n",
        "\n",
        "result_cached = spark.sql(query_cached)\n",
        "result_cached.show()\n",
        "\n",
        "cached_runtime = time.time() - start_time\n",
        "print(f\"Runtime with caching: {cached_runtime} seconds\")\n",
        "\n",
        "# Showing the difference\n",
        "difference = parquet_runtime - cached_runtime\n",
        "print(f\"Difference in runtime (Parquet - cached): {difference} seconds\")"
      ]
    },
    {
      "cell_type": "code",
      "execution_count": 51,
      "metadata": {
        "colab": {
          "base_uri": "https://localhost:8080/"
        },
        "id": "hjjYzQGjtbq8",
        "outputId": "96632a1b-15d4-404b-d2f4-d883bb7db837"
      },
      "outputs": [
        {
          "data": {
            "text/plain": [
              "DataFrame[id: string, date: date, date_built: int, price: int, bedrooms: int, bathrooms: int, sqft_living: int, sqft_lot: int, floors: int, waterfront: int, view: int]"
            ]
          },
          "execution_count": 51,
          "metadata": {},
          "output_type": "execute_result"
        }
      ],
      "source": [
        "# 14. Uncache the home_sales temporary table.\n",
        "spark.table(\"home_sales\").unpersist()"
      ]
    },
    {
      "cell_type": "code",
      "execution_count": 52,
      "metadata": {
        "colab": {
          "base_uri": "https://localhost:8080/"
        },
        "id": "Sy9NBvO7tlmm",
        "outputId": "c006eda1-b98e-429d-c5af-e54776c9ae25"
      },
      "outputs": [
        {
          "name": "stdout",
          "output_type": "stream",
          "text": [
            "Is 'home_sales' table cached? False\n"
          ]
        }
      ],
      "source": [
        "# 15. Check if the home_sales is no longer cached\n",
        "is_cached = spark.catalog.isCached('home_sales')\n",
        "\n",
        "# Print the result\n",
        "print(f\"Is 'home_sales' table cached? {is_cached}\")\n",
        "\n"
      ]
    },
    {
      "cell_type": "code",
      "execution_count": null,
      "metadata": {
        "id": "Si-BNruRUGK3"
      },
      "outputs": [],
      "source": []
    }
  ],
  "metadata": {
    "colab": {
      "provenance": []
    },
    "gpuClass": "standard",
    "kernelspec": {
      "display_name": "Python 3 (ipykernel)",
      "language": "python",
      "name": "python3"
    },
    "language_info": {
      "codemirror_mode": {
        "name": "ipython",
        "version": 3
      },
      "file_extension": ".py",
      "mimetype": "text/x-python",
      "name": "python",
      "nbconvert_exporter": "python",
      "pygments_lexer": "ipython3",
      "version": "3.10.4"
    },
    "nteract": {
      "version": "0.28.0"
    }
  },
  "nbformat": 4,
  "nbformat_minor": 0
}
